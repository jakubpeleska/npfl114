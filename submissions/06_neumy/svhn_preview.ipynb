{
 "cells": [
  {
   "cell_type": "code",
   "execution_count": 2,
   "metadata": {
    "tags": []
   },
   "outputs": [],
   "source": [
    "import itertools\n",
    "from bboxes_utils import bboxes_from_fast_rcnn, bboxes_training, bboxes_resize\n",
    "import matplotlib.pyplot as plt\n",
    "import matplotlib.patches as patches\n",
    "import os\n",
    "import argparse\n",
    "import functools\n",
    "from tqdm.auto import tqdm\n",
    "\n",
    "os.environ.setdefault(\"TF_CPP_MIN_LOG_LEVEL\", \"2\")  # Report only TF errors by default\n",
    "\n",
    "import numpy as np\n",
    "import tensorflow as tf\n",
    "\n",
    "from svhn_dataset import SVHN\n",
    "from svhn_augmentations import DatasetFactory\n",
    "from svhn_anchors import AnchorsFactory\n",
    "from svhn_competition import RetinaNet, RetinaNetInference"
   ]
  },
  {
   "cell_type": "code",
   "execution_count": 14,
   "metadata": {},
   "outputs": [],
   "source": [
    "def iterate_images(dataset, model=None):\n",
    "    for x, y in dataset:\n",
    "        y_pred = {} if model is None else model(x)\n",
    "        \n",
    "        for i in range(x.shape[0]):\n",
    "            x_out = x[i, None]\n",
    "            y_true_out = {k: v[i] for k, v in y.items()}\n",
    "            y_pred_out = {k: v[i] for k, v in y_pred.items()}\n",
    "            yield x_out, y_true_out, y_pred_out"
   ]
  },
  {
   "cell_type": "code",
   "execution_count": 15,
   "metadata": {},
   "outputs": [],
   "source": [
    "def plot_img(x):\n",
    "    x = np.squeeze(x)\n",
    "    x = (x - np.min(x, axis=(0, 1))) / (np.max(x, axis=(0, 1)) - np.min(x, axis=(0, 1)))\n",
    "    plt.imshow(x)\n",
    "    \n",
    "def plot_bboxes(bboxes, color):\n",
    "    global BBOXES_POINTS\n",
    "    if BBOXES_POINTS:\n",
    "        y_c = (bboxes[..., 0] + bboxes[..., 2]) / 2.\n",
    "        x_c = (bboxes[..., 1] + bboxes[..., 3]) / 2.\n",
    "        plt.scatter(x_c, y_c, c=color)\n",
    "    else:\n",
    "        for bbox in bboxes:\n",
    "            plt.gca().add_patch(patches.Rectangle((bbox[1], bbox[0]), bbox[3] - bbox[1], bbox[2] - bbox[0], facecolor=(0,0,0,0), edgecolor=color))"
   ]
  },
  {
   "cell_type": "code",
   "execution_count": 16,
   "metadata": {},
   "outputs": [],
   "source": [
    "svhn = SVHN()\n",
    "anchors_factory = AnchorsFactory(levels=(3, 7))#, scales=[0.5, 1.], ratios=[0.5, 1, ])\n",
    "dataset_factory = DatasetFactory(match_scales_dim=122, svhn=svhn, batch_size=256, anchors_factory=anchors_factory, iou_threshold=0.5, bg_iou_threshold=0.4, shuffle_train=False)\n",
    "\n",
    "dataset = dataset_factory.build('test')"
   ]
  },
  {
   "cell_type": "code",
   "execution_count": 17,
   "metadata": {},
   "outputs": [
    {
     "data": {
      "text/plain": [
       "<tensorflow.python.checkpoint.checkpoint.CheckpointLoadStatus at 0x31d213f70>"
      ]
     },
     "execution_count": 17,
     "metadata": {},
     "output_type": "execute_result"
    }
   ],
   "source": [
    "model = RetinaNet(num_classes=SVHN.LABELS, backbone='resnet', levels=(3, 7), n_anchors=anchors_factory.anchors_per_unit)\n",
    "model.load_weights('./weights')"
   ]
  },
  {
   "cell_type": "code",
   "execution_count": 18,
   "metadata": {},
   "outputs": [],
   "source": [
    "imodel = RetinaNetInference(model, anchors_factory, max_output_size_per_class=10, max_total_size=10, iou_threshold=0.2, any_iou_threshold=0.4, score_threshold=0.4)"
   ]
  },
  {
   "cell_type": "code",
   "execution_count": 19,
   "metadata": {},
   "outputs": [],
   "source": [
    "it = iter(iterate_images(dataset, imodel))"
   ]
  },
  {
   "cell_type": "code",
   "execution_count": 20,
   "metadata": {},
   "outputs": [],
   "source": [
    "BBOXES_POINTS = False"
   ]
  },
  {
   "cell_type": "code",
   "execution_count": 82,
   "metadata": {
    "collapsed": false,
    "jupyter": {
     "outputs_hidden": false
    }
   },
   "outputs": [
    {
     "name": "stdout",
     "output_type": "stream",
     "text": [
      "  true: []\n",
      "  pred: [3]\n",
      "scores: [0.47708437]\n"
     ]
    },
    {
     "data": {
      "image/png": "[encoded data removed]",
      "text/plain": [
       "<Figure size 640x480 with 1 Axes>"
      ]
     },
     "metadata": {},
     "output_type": "display_data"
    }
   ],
   "source": [
    "x, y_true, y_pred = next(it)\n",
    "h, w = int(x.shape[-3]), int(x.shape[-2])\n",
    "orig_h, orig_w = DatasetFactory.decode_dimensions_from_images(x)\n",
    "x = tf.image.resize(x, (int(orig_h), int(orig_w)))\n",
    "\n",
    "x = x.numpy()\n",
    "y_true_bbox, y_true_cls = y_true['bboxes'], y_true['classes'].numpy()\n",
    "\n",
    "anchors = anchors_factory.build(height=h, width=w)\n",
    "y_true_bbox = bboxes_from_fast_rcnn(anchors, y_true_bbox)\n",
    "y_true_bbox = bboxes_resize(y_true_bbox, tf.cast(orig_h / h, tf.float32), tf.cast(orig_w / w, tf.float32), orig_h, orig_w)\n",
    "y_true_bbox = y_true_bbox.numpy()\n",
    "\n",
    "plot_img(x)\n",
    "# if not y_pred:\n",
    "    # plot_bboxes(y_true_bbox[y_true_cls == 1], 'g')\n",
    "plot_bboxes(y_true_bbox[y_true_cls >= 2], 'r')\n",
    "\n",
    "if not y_pred:\n",
    "    plot_bboxes(anchors[y_true_cls >= 2], 'b')\n",
    "    print(y_true_cls[y_true_cls >= 2] - 2)\n",
    "\n",
    "if y_pred:\n",
    "    y_pred_bbox, y_pred_cls = y_pred['bboxes'].numpy(), y_pred['classes'].numpy()\n",
    "    plot_bboxes(y_pred_bbox, 'b')\n",
    "    print(\"  true:\", y_true_cls[y_true_cls >= 2] - 2)\n",
    "    print(\"  pred:\", y_pred_cls.astype(int))\n",
    "    print(\"scores:\", y_pred['scores'].numpy())\n",
    "\n",
    "plt.show()"
   ]
  },
  {
   "cell_type": "code",
   "execution_count": null,
   "metadata": {},
   "outputs": [],
   "source": []
  }
 ],
 "metadata": {
  "kernelspec": {
   "display_name": "Python [conda env:deeplearning]",
   "language": "python",
   "name": "conda-env-deeplearning-py"
  },
  "language_info": {
   "codemirror_mode": {
    "name": "ipython",
    "version": 3
   },
   "file_extension": ".py",
   "mimetype": "text/x-python",
   "name": "python",
   "nbconvert_exporter": "python",
   "pygments_lexer": "ipython3",
   "version": "3.9.16"
  }
 },
 "nbformat": 4,
 "nbformat_minor": 4
}
